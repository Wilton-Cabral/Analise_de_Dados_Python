{
 "cells": [
  {
   "cell_type": "code",
   "execution_count": 1,
   "id": "dcb29601",
   "metadata": {},
   "outputs": [],
   "source": [
    "# Importando bibliotecas\n",
    "# Por convenção vamos chamar o pandas de pd\n",
    "import pandas as pd"
   ]
  },
  {
   "cell_type": "code",
   "execution_count": 5,
   "id": "dfc508d9",
   "metadata": {
    "scrolled": true
   },
   "outputs": [
    {
     "data": {
      "text/html": [
       "<div>\n",
       "<style scoped>\n",
       "    .dataframe tbody tr th:only-of-type {\n",
       "        vertical-align: middle;\n",
       "    }\n",
       "\n",
       "    .dataframe tbody tr th {\n",
       "        vertical-align: top;\n",
       "    }\n",
       "\n",
       "    .dataframe thead th {\n",
       "        text-align: right;\n",
       "    }\n",
       "</style>\n",
       "<table border=\"1\" class=\"dataframe\">\n",
       "  <thead>\n",
       "    <tr style=\"text-align: right;\">\n",
       "      <th></th>\n",
       "      <th>SIGLA_INSTITUICAO</th>\n",
       "      <th>NOME_UNIDADE_ENSINO</th>\n",
       "      <th>ANO</th>\n",
       "      <th>SIGLA_UF_UNIDADE_ENSINO</th>\n",
       "      <th>NOME_MUNICIPIO_UNIDADE_ENSINO</th>\n",
       "    </tr>\n",
       "  </thead>\n",
       "  <tbody>\n",
       "    <tr>\n",
       "      <th>0</th>\n",
       "      <td>IFAC</td>\n",
       "      <td>Campus Cruzeiro do Sul</td>\n",
       "      <td>2011</td>\n",
       "      <td>AC</td>\n",
       "      <td>Cruzeiro do Sul</td>\n",
       "    </tr>\n",
       "    <tr>\n",
       "      <th>1</th>\n",
       "      <td>IFAC</td>\n",
       "      <td>Campus Rio Branco</td>\n",
       "      <td>2011</td>\n",
       "      <td>AC</td>\n",
       "      <td>Rio Branco</td>\n",
       "    </tr>\n",
       "    <tr>\n",
       "      <th>2</th>\n",
       "      <td>IFAC</td>\n",
       "      <td>Campus Avançado Rio Branco Baixada do Sol</td>\n",
       "      <td>2014</td>\n",
       "      <td>AC</td>\n",
       "      <td>Rio Branco</td>\n",
       "    </tr>\n",
       "    <tr>\n",
       "      <th>3</th>\n",
       "      <td>IFAC</td>\n",
       "      <td>Campus Sena Madureira</td>\n",
       "      <td>2011</td>\n",
       "      <td>AC</td>\n",
       "      <td>Sena Madureira</td>\n",
       "    </tr>\n",
       "    <tr>\n",
       "      <th>4</th>\n",
       "      <td>IFAC</td>\n",
       "      <td>Campus Tarauac</td>\n",
       "      <td>2013</td>\n",
       "      <td>AC</td>\n",
       "      <td>Tarauac</td>\n",
       "    </tr>\n",
       "  </tbody>\n",
       "</table>\n",
       "</div>"
      ],
      "text/plain": [
       "  SIGLA_INSTITUICAO                        NOME_UNIDADE_ENSINO   ANO  \\\n",
       "0              IFAC                     Campus Cruzeiro do Sul  2011   \n",
       "1              IFAC                          Campus Rio Branco  2011   \n",
       "2              IFAC  Campus Avançado Rio Branco Baixada do Sol  2014   \n",
       "3              IFAC                      Campus Sena Madureira  2011   \n",
       "4              IFAC                            Campus Tarauac   2013   \n",
       "\n",
       "  SIGLA_UF_UNIDADE_ENSINO NOME_MUNICIPIO_UNIDADE_ENSINO  \n",
       "0                      AC               Cruzeiro do Sul  \n",
       "1                      AC                    Rio Branco  \n",
       "2                      AC                    Rio Branco  \n",
       "3                      AC                Sena Madureira  \n",
       "4                      AC                      Tarauac   "
      ]
     },
     "execution_count": 5,
     "metadata": {},
     "output_type": "execute_result"
    }
   ],
   "source": [
    "# Carregar o arquivo csv\n",
    "# Pandas vai converter o arquivo em um Dataframe\n",
    "# Por convenção vamos chamar o Dataframe as df\n",
    "# O arquivo é separado por ';' e por isso informammos o separador\n",
    "# O arquivo é codificado como cp1252\n",
    "\n",
    "df = pd.read_csv('PDA_2020_Unidades_Rede_Federal_EPCT.csv', sep=(';'), encoding= 'cp1252')\n",
    "\n",
    "# Mostras as cinco primeiras linhas \n",
    "df.head()"
   ]
  },
  {
   "cell_type": "code",
   "execution_count": 6,
   "id": "8bb4c140",
   "metadata": {},
   "outputs": [
    {
     "data": {
      "text/plain": [
       "SIGLA_INSTITUICAO                665\n",
       "NOME_UNIDADE_ENSINO              665\n",
       "ANO                              665\n",
       "SIGLA_UF_UNIDADE_ENSINO          665\n",
       "NOME_MUNICIPIO_UNIDADE_ENSINO    665\n",
       "dtype: int64"
      ]
     },
     "execution_count": 6,
     "metadata": {},
     "output_type": "execute_result"
    }
   ],
   "source": [
    "# Quantas escolas ?\n",
    "df.count()"
   ]
  },
  {
   "cell_type": "code",
   "execution_count": 8,
   "id": "eda889b1",
   "metadata": {},
   "outputs": [
    {
     "data": {
      "text/html": [
       "<div>\n",
       "<style scoped>\n",
       "    .dataframe tbody tr th:only-of-type {\n",
       "        vertical-align: middle;\n",
       "    }\n",
       "\n",
       "    .dataframe tbody tr th {\n",
       "        vertical-align: top;\n",
       "    }\n",
       "\n",
       "    .dataframe thead th {\n",
       "        text-align: right;\n",
       "    }\n",
       "</style>\n",
       "<table border=\"1\" class=\"dataframe\">\n",
       "  <thead>\n",
       "    <tr style=\"text-align: right;\">\n",
       "      <th></th>\n",
       "      <th>ANO</th>\n",
       "    </tr>\n",
       "  </thead>\n",
       "  <tbody>\n",
       "    <tr>\n",
       "      <th>count</th>\n",
       "      <td>665.000000</td>\n",
       "    </tr>\n",
       "    <tr>\n",
       "      <th>mean</th>\n",
       "      <td>2001.210526</td>\n",
       "    </tr>\n",
       "    <tr>\n",
       "      <th>std</th>\n",
       "      <td>24.789127</td>\n",
       "    </tr>\n",
       "    <tr>\n",
       "      <th>min</th>\n",
       "      <td>1909.000000</td>\n",
       "    </tr>\n",
       "    <tr>\n",
       "      <th>25%</th>\n",
       "      <td>2007.000000</td>\n",
       "    </tr>\n",
       "    <tr>\n",
       "      <th>50%</th>\n",
       "      <td>2010.000000</td>\n",
       "    </tr>\n",
       "    <tr>\n",
       "      <th>75%</th>\n",
       "      <td>2014.000000</td>\n",
       "    </tr>\n",
       "    <tr>\n",
       "      <th>max</th>\n",
       "      <td>2020.000000</td>\n",
       "    </tr>\n",
       "  </tbody>\n",
       "</table>\n",
       "</div>"
      ],
      "text/plain": [
       "               ANO\n",
       "count   665.000000\n",
       "mean   2001.210526\n",
       "std      24.789127\n",
       "min    1909.000000\n",
       "25%    2007.000000\n",
       "50%    2010.000000\n",
       "75%    2014.000000\n",
       "max    2020.000000"
      ]
     },
     "execution_count": 8,
     "metadata": {},
     "output_type": "execute_result"
    }
   ],
   "source": [
    "# Descreve as colunas numericas\n",
    "df.describe()"
   ]
  },
  {
   "cell_type": "code",
   "execution_count": 10,
   "id": "589f5ffc",
   "metadata": {},
   "outputs": [
    {
     "data": {
      "text/plain": [
       "SIGLA_INSTITUICAO                object\n",
       "NOME_UNIDADE_ENSINO              object\n",
       "ANO                               int64\n",
       "SIGLA_UF_UNIDADE_ENSINO          object\n",
       "NOME_MUNICIPIO_UNIDADE_ENSINO    object\n",
       "dtype: object"
      ]
     },
     "execution_count": 10,
     "metadata": {},
     "output_type": "execute_result"
    }
   ],
   "source": [
    "# Mostra os  tipos de cada coluna do Dataframe\n",
    "df.dtypes\n"
   ]
  },
  {
   "cell_type": "code",
   "execution_count": null,
   "id": "db76a78a",
   "metadata": {},
   "outputs": [],
   "source": [
    "df['']"
   ]
  }
 ],
 "metadata": {
  "kernelspec": {
   "display_name": "Python 3 (ipykernel)",
   "language": "python",
   "name": "python3"
  },
  "language_info": {
   "codemirror_mode": {
    "name": "ipython",
    "version": 3
   },
   "file_extension": ".py",
   "mimetype": "text/x-python",
   "name": "python",
   "nbconvert_exporter": "python",
   "pygments_lexer": "ipython3",
   "version": "3.9.7"
  }
 },
 "nbformat": 4,
 "nbformat_minor": 5
}
